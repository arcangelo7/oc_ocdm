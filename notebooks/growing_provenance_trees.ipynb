{
 "cells": [
  {
   "cell_type": "markdown",
   "id": "617d595b-5756-4118-9375-23cec60196b4",
   "metadata": {
    "tags": []
   },
   "source": [
    "# Growing provenance trees"
   ]
  },
  {
   "cell_type": "markdown",
   "id": "da3c90a4-722c-400f-a282-cad4966d5687",
   "metadata": {},
   "source": [
    "## Setup"
   ]
  },
  {
   "cell_type": "code",
   "execution_count": 1,
   "id": "77a6031b-a7ae-48d3-9df4-0872adb014bb",
   "metadata": {},
   "outputs": [],
   "source": [
    "from oc_ocdm.graph import GraphSet\n",
    "from rdflib import URIRef\n",
    "from oc_ocdm.prov import ProvSet\n",
    "from oc_ocdm import Storer"
   ]
  },
  {
   "cell_type": "code",
   "execution_count": 2,
   "id": "df57e30d-9f63-4078-8971-c4fb60959994",
   "metadata": {},
   "outputs": [],
   "source": [
    "my_base_iri = \"http://dataset_base_iri/\"\n",
    "\n",
    "my_graphset = GraphSet(my_base_iri, wanted_label=False)  # in-memory counter handler: for demonstration purpose only!\n",
    "my_provset = ProvSet(my_graphset, my_base_iri, wanted_label=False)  # in-memory counter handler: for demonstration purpose only!\n",
    "\n",
    "my_graph_storer = Storer(my_graphset, output_format=\"json-ld\")\n",
    "my_prov_storer = Storer(my_provset, output_format=\"json-ld\")"
   ]
  },
  {
   "cell_type": "markdown",
   "id": "b9fac171-4966-40b1-ad42-2cc2a6f10f09",
   "metadata": {},
   "source": [
    "## Step 1"
   ]
  },
  {
   "cell_type": "code",
   "execution_count": 3,
   "id": "74917308-e1b4-4503-8a78-dfeb0b801639",
   "metadata": {},
   "outputs": [],
   "source": [
    "# CREATION\n",
    "my_resp_agent = \"http://responsible_agent_uri/\"\n",
    "my_br_1 = my_graphset.add_br(my_resp_agent)\n",
    "my_br_2 = my_graphset.add_br(my_resp_agent)\n",
    "my_br_3 = my_graphset.add_br(my_resp_agent)"
   ]
  },
  {
   "cell_type": "code",
   "execution_count": 4,
   "id": "03ee6ee8-1f63-4362-98bf-73e652e2344f",
   "metadata": {},
   "outputs": [
    {
     "name": "stdout",
     "output_type": "stream",
     "text": [
      "[Storer: INFO] Store the graphs into a file: starting process\n",
      "[Storer: INFO] File './step1_graph.jsonld' added.\n",
      "[Storer: INFO] Store the graphs into a file: starting process\n",
      "[Storer: INFO] File './step1_prov.jsonld' added.\n"
     ]
    }
   ],
   "source": [
    "# PROVENANCE GENERATION\n",
    "my_provset.generate_provenance()\n",
    "\n",
    "# DATASET CLEANUP\n",
    "my_graphset.commit_changes()  # it lets the library prepare itself to register new operations\n",
    "\n",
    "my_graph_storer.store_graphs_in_file(\"./step1_graph.jsonld\")\n",
    "my_prov_storer.store_graphs_in_file(\"./step1_prov.jsonld\")"
   ]
  },
  {
   "cell_type": "markdown",
   "id": "880d0187-829f-4b4e-9487-449960aeb3b5",
   "metadata": {},
   "source": [
    "## Step 2"
   ]
  },
  {
   "cell_type": "code",
   "execution_count": 5,
   "id": "75d1d666-e968-4f63-833a-b3051d86f61b",
   "metadata": {},
   "outputs": [],
   "source": [
    "# CREATION\n",
    "my_resp_agent = \"http://responsible_agent_uri/\"\n",
    "my_br_4 = my_graphset.add_br(my_resp_agent)"
   ]
  },
  {
   "cell_type": "code",
   "execution_count": 6,
   "id": "e57aded3-2a3b-49be-b8f6-b929e23a563f",
   "metadata": {},
   "outputs": [],
   "source": [
    "# MODIFICATION\n",
    "my_br_3.has_title(\"Demo\")\n",
    "my_br_3.has_related_document(URIRef(\"http://related_document_1/\"))\n",
    "my_br_3.has_related_document(URIRef(\"http://related_document_2/\"))\n",
    "my_br_3.remove_related_document(URIRef(\"http://related_document_1/\"))"
   ]
  },
  {
   "cell_type": "code",
   "execution_count": 7,
   "id": "afe36ad3-3c84-49f6-8568-165a19567832",
   "metadata": {},
   "outputs": [],
   "source": [
    "# MERGE (with implicit DELETION of my_br_2)\n",
    "my_br_1.merge(my_br_2)"
   ]
  },
  {
   "cell_type": "code",
   "execution_count": 8,
   "id": "0df94a64-f263-4f21-b773-fe3e802b3f28",
   "metadata": {},
   "outputs": [
    {
     "name": "stdout",
     "output_type": "stream",
     "text": [
      "[Storer: INFO] Store the graphs into a file: starting process\n",
      "[Storer: INFO] File './step2_graph.jsonld' added.\n",
      "[Storer: INFO] Store the graphs into a file: starting process\n",
      "[Storer: INFO] File './step2_prov.jsonld' added.\n"
     ]
    }
   ],
   "source": [
    "# PROVENANCE GENERATION\n",
    "my_provset.generate_provenance()\n",
    "\n",
    "# DATASET CLEANUP\n",
    "my_graphset.commit_changes()  # it lets the library prepare itself to register new operations\n",
    "\n",
    "my_graph_storer.store_graphs_in_file(\"./step2_graph.jsonld\")\n",
    "my_prov_storer.store_graphs_in_file(\"./step2_prov.jsonld\")"
   ]
  },
  {
   "cell_type": "markdown",
   "id": "98aa67fd-e09d-4670-b5fb-449a95bc2228",
   "metadata": {},
   "source": [
    "## Step 3"
   ]
  },
  {
   "cell_type": "code",
   "execution_count": 9,
   "id": "7164f95e-9aa2-43ec-93cf-688b45e46923",
   "metadata": {},
   "outputs": [],
   "source": [
    "# MERGE (with implicit DELETION of my_br_1 and my_br_4)\n",
    "my_br_3.merge(my_br_1)\n",
    "my_br_3.merge(my_br_4)"
   ]
  },
  {
   "cell_type": "code",
   "execution_count": 10,
   "id": "cd4289f1-01dc-4ee8-a444-e05b3bf8370d",
   "metadata": {},
   "outputs": [
    {
     "name": "stdout",
     "output_type": "stream",
     "text": [
      "[Storer: INFO] Store the graphs into a file: starting process\n",
      "[Storer: INFO] File './step3_graph.jsonld' added.\n",
      "[Storer: INFO] Store the graphs into a file: starting process\n",
      "[Storer: INFO] File './step3_prov.jsonld' added.\n"
     ]
    }
   ],
   "source": [
    "# PROVENANCE GENERATION\n",
    "my_provset.generate_provenance()\n",
    "\n",
    "# DATASET CLEANUP\n",
    "my_graphset.commit_changes()  # it lets the library prepare itself to register new operations\n",
    "\n",
    "my_graph_storer.store_graphs_in_file(\"./step3_graph.jsonld\")\n",
    "my_prov_storer.store_graphs_in_file(\"./step3_prov.jsonld\")"
   ]
  }
 ],
 "metadata": {
  "kernelspec": {
   "display_name": "Python 3 (ipykernel)",
   "language": "python",
   "name": "python3"
  },
  "language_info": {
   "codemirror_mode": {
    "name": "ipython",
    "version": 3
   },
   "file_extension": ".py",
   "mimetype": "text/x-python",
   "name": "python",
   "nbconvert_exporter": "python",
   "pygments_lexer": "ipython3",
   "version": "3.9.7"
  }
 },
 "nbformat": 4,
 "nbformat_minor": 5
}
