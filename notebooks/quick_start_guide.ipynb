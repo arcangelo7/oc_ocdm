{
 "cells": [
  {
   "cell_type": "markdown",
   "id": "59dc48bd-7091-4de1-b69f-7fe274d016bf",
   "metadata": {},
   "source": [
    "# Quick start guide"
   ]
  },
  {
   "cell_type": "code",
   "execution_count": 1,
   "id": "1e2175f8-15ac-47af-984e-a7947f24712f",
   "metadata": {},
   "outputs": [],
   "source": [
    "from oc_ocdm.graph import GraphSet\n",
    "from rdflib import URIRef\n",
    "from oc_ocdm.support import create_date\n",
    "from oc_ocdm.prov import ProvSet\n",
    "from oc_ocdm.metadata import MetadataSet\n",
    "from oc_ocdm import Storer"
   ]
  },
  {
   "cell_type": "code",
   "execution_count": 2,
   "id": "8347b493-43c5-490a-be8d-a8d337497296",
   "metadata": {},
   "outputs": [],
   "source": [
    "my_graphset = GraphSet(\"http://dataset_base_iri/\")\n",
    "my_br = my_graphset.add_br(\"http://responsible_agent_uri/\")"
   ]
  },
  {
   "cell_type": "code",
   "execution_count": 3,
   "id": "7d47f943-e93b-4414-a69b-6bdb450e204c",
   "metadata": {},
   "outputs": [],
   "source": [
    "my_br.has_title(\"Resource title\")\n",
    "my_br.has_subtitle(\"Resource subtitle\")\n",
    "my_br.has_pub_date(\"2020-05-25\")\n",
    "my_br.has_related_document(URIRef(\"http://related_document_uri/\"))"
   ]
  },
  {
   "cell_type": "code",
   "execution_count": 4,
   "id": "1633031a-40f0-457b-a063-bd1f2bf27c6f",
   "metadata": {},
   "outputs": [],
   "source": [
    "iso_date_string = create_date([2020, 5, 25])\n",
    "my_br.has_pub_date(iso_date_string)"
   ]
  },
  {
   "cell_type": "code",
   "execution_count": 5,
   "id": "18505a47-9ce3-4776-a41a-a492f231aa1a",
   "metadata": {},
   "outputs": [],
   "source": [
    "my_br.has_title(\"Correct title\")\n",
    "my_br.remove_subtitle()\n",
    "my_br.remove_related_document(URIRef(\"http://related_document_uri/\"))\n",
    "my_br.has_related_document(URIRef(\"http://correct_uri/\"))"
   ]
  },
  {
   "cell_type": "code",
   "execution_count": 6,
   "id": "0a0316aa-afd1-4b66-aaec-0c992d197ea4",
   "metadata": {},
   "outputs": [],
   "source": [
    "my_provset = ProvSet(my_graphset, \"http://dataset_base_iri/\")\n",
    "my_provset.generate_provenance()"
   ]
  },
  {
   "cell_type": "code",
   "execution_count": 7,
   "id": "b917c40f-6dd1-4ecb-b040-1fa1d4cc44f5",
   "metadata": {},
   "outputs": [],
   "source": [
    "my_metadataset = MetadataSet(\"http://dataset_base_iri/\")\n",
    "my_dataset = my_metadataset.add_dataset(\"dataset_name\", \"http://dataset_base_iri/\")\n",
    "my_dataset.has_modification_date(\"2020-01-01T00:00:00\")"
   ]
  },
  {
   "cell_type": "code",
   "execution_count": 8,
   "id": "41161962-d94b-4449-b589-bb9b1755a309",
   "metadata": {},
   "outputs": [
    {
     "name": "stdout",
     "output_type": "stream",
     "text": [
      "[Storer: INFO] Store the graphs into a file: starting process\n",
      "[Storer: INFO] File 'graph.jsonld' added.\n",
      "[Storer: INFO] Store the graphs into a file: starting process\n",
      "[Storer: INFO] File 'prov.jsonld' added.\n",
      "[Storer: INFO] Store the graphs into a file: starting process\n",
      "[Storer: INFO] File 'metadata.jsonld' added.\n"
     ]
    }
   ],
   "source": [
    "my_graph_storer = Storer(my_graphset, output_format=\"json-ld\")\n",
    "my_prov_storer = Storer(my_provset, output_format=\"json-ld\")\n",
    "my_metadata_storer = Storer(my_metadataset, output_format=\"json-ld\")\n",
    "\n",
    "my_graph_storer.store_graphs_in_file(\"graph.jsonld\")\n",
    "my_prov_storer.store_graphs_in_file(\"prov.jsonld\")\n",
    "my_metadata_storer.store_graphs_in_file(\"metadata.jsonld\")"
   ]
  },
  {
   "cell_type": "code",
   "execution_count": 9,
   "id": "e342a0f4-3f54-494a-b5b9-801755677478",
   "metadata": {},
   "outputs": [],
   "source": [
    "my_graphset.commit_changes()\n",
    "my_metadataset.commit_changes()"
   ]
  }
 ],
 "metadata": {
  "kernelspec": {
   "display_name": "Python 3 (ipykernel)",
   "language": "python",
   "name": "python3"
  },
  "language_info": {
   "codemirror_mode": {
    "name": "ipython",
    "version": 3
   },
   "file_extension": ".py",
   "mimetype": "text/x-python",
   "name": "python",
   "nbconvert_exporter": "python",
   "pygments_lexer": "ipython3",
   "version": "3.9.7"
  }
 },
 "nbformat": 4,
 "nbformat_minor": 5
}
